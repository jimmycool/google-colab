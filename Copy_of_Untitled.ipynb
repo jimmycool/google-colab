{
  "nbformat": 4,
  "nbformat_minor": 0,
  "metadata": {
    "kernelspec": {
      "display_name": "Python 3",
      "language": "python",
      "name": "python3"
    },
    "language_info": {
      "codemirror_mode": {
        "name": "ipython",
        "version": 3
      },
      "file_extension": ".py",
      "mimetype": "text/x-python",
      "name": "python",
      "nbconvert_exporter": "python",
      "pygments_lexer": "ipython3",
      "version": "3.6.5"
    },
    "colab": {
      "name": "Copy of Untitled.ipynb",
      "provenance": [],
      "include_colab_link": true
    }
  },
  "cells": [
    {
      "cell_type": "markdown",
      "metadata": {
        "id": "view-in-github",
        "colab_type": "text"
      },
      "source": [
        "<a href=\"https://colab.research.google.com/github/jimmycool/google-colab/blob/master/Copy_of_Untitled.ipynb\" target=\"_parent\"><img src=\"https://colab.research.google.com/assets/colab-badge.svg\" alt=\"Open In Colab\"/></a>"
      ]
    },
    {
      "cell_type": "code",
      "metadata": {
        "id": "Y-PdL17b2YoR"
      },
      "source": [
        "import numpy as np\n",
        "import keras as ks"
      ],
      "execution_count": null,
      "outputs": []
    },
    {
      "cell_type": "code",
      "metadata": {
        "id": "1wfoOlnu2You"
      },
      "source": [
        "import pandas as pd"
      ],
      "execution_count": null,
      "outputs": []
    },
    {
      "cell_type": "code",
      "metadata": {
        "id": "Z0u2JI0E2Yov"
      },
      "source": [
        "pd1=pd.read_csv(\"./fashion-mnist_train.csv\")\n",
        "pd2=pd.read_csv(\"./fashion-mnist_test.csv\")\n",
        "y=pd1.head(60000)['label']\n",
        "x=pd1.head(60000)\n",
        "x2=pd2.head(10000)\n",
        "y2=pd2.head(10000)['label']\n",
        "x1=pd1.drop(['label'], axis = 1)\n",
        "from sklearn.model_selection import train_test_split\n",
        "X_train, X_test, y_train, y_test = train_test_split(x1, y, test_size=0.33, random_state=42)"
      ],
      "execution_count": null,
      "outputs": []
    },
    {
      "cell_type": "code",
      "metadata": {
        "id": "xq2zktC22Yow",
        "colab": {
          "base_uri": "https://localhost:8080/"
        },
        "outputId": "6413bba9-4fe2-4405-ebd4-c9ed54bd58ca"
      },
      "source": [
        "pd1.columns"
      ],
      "execution_count": null,
      "outputs": [
        {
          "output_type": "execute_result",
          "data": {
            "text/plain": [
              "Index(['label', 'pixel1', 'pixel2', 'pixel3', 'pixel4', 'pixel5', 'pixel6',\n",
              "       'pixel7', 'pixel8', 'pixel9',\n",
              "       ...\n",
              "       'pixel775', 'pixel776', 'pixel777', 'pixel778', 'pixel779', 'pixel780',\n",
              "       'pixel781', 'pixel782', 'pixel783', 'pixel784'],\n",
              "      dtype='object', length=785)"
            ]
          },
          "metadata": {
            "tags": []
          },
          "execution_count": 7
        }
      ]
    },
    {
      "cell_type": "code",
      "metadata": {
        "id": "nq_G_JUK2Yox",
        "colab": {
          "base_uri": "https://localhost:8080/",
          "height": 265
        },
        "outputId": "3c340626-93d3-4c28-dd56-2bf79de141bf"
      },
      "source": [
        "import matplotlib.pyplot as plt\n",
        "import matplotlib.cm as cm\n",
        "xcv1=(np.array(X_train))\n",
        "xc2=[]\n",
        "for t in xcv1:\n",
        "    xc2.append(t.reshape(28,28))\n",
        "plt.imshow(xc2[0],cmap=cm.gray)\n",
        "plt.show()"
      ],
      "execution_count": null,
      "outputs": [
        {
          "output_type": "display_data",
          "data": {
            "image/png": "[encoded data removed]",
            "text/plain": [
              "<Figure size 432x288 with 1 Axes>"
            ]
          },
          "metadata": {
            "tags": [],
            "needs_background": "light"
          }
        }
      ]
    },
    {
      "cell_type": "code",
      "metadata": {
        "id": "O2howW6Y2Yox",
        "outputId": "6b57d06c-7b93-43b9-bc5d-62435c1df441"
      },
      "source": [
        "plt.imshow(xc2[2],cm.gray)\n",
        "plt.show()"
      ],
      "execution_count": null,
      "outputs": [
        {
          "output_type": "display_data",
          "data": {
            "image/png": "[encoded data removed]",
            "text/plain": [
              "<Figure size 432x288 with 1 Axes>"
            ]
          },
          "metadata": {
            "tags": []
          }
        }
      ]
    },
    {
      "cell_type": "code",
      "metadata": {
        "id": "pCwMo0aN2Yoy",
        "outputId": "3c3257a7-3bfc-49bf-fdfa-324a7f8e9c74"
      },
      "source": [
        "plt.imshow(xc2[3],cm.gray)\n",
        "plt.show()"
      ],
      "execution_count": null,
      "outputs": [
        {
          "output_type": "display_data",
          "data": {
            "image/png": "[encoded data removed]",
            "text/plain": [
              "<Figure size 432x288 with 1 Axes>"
            ]
          },
          "metadata": {
            "tags": []
          }
        }
      ]
    },
    {
      "cell_type": "code",
      "metadata": {
        "id": "fE2qZJtf2Yoz",
        "outputId": "959111fe-e8fd-4155-8902-2963b90b7c91"
      },
      "source": [
        "plt.imshow(xc2[4],cm.gray)\n",
        "plt.show()"
      ],
      "execution_count": null,
      "outputs": [
        {
          "output_type": "display_data",
          "data": {
            "image/png": "[encoded data removed]",
            "text/plain": [
              "<Figure size 432x288 with 1 Axes>"
            ]
          },
          "metadata": {
            "tags": []
          }
        }
      ]
    },
    {
      "cell_type": "code",
      "metadata": {
        "id": "utDT-sMr2Yoz",
        "outputId": "5984a849-8ef2-4ae2-984e-da663d0fbf4d"
      },
      "source": [
        "plt.imshow(xc2[5],cm.gray)\n",
        "plt.show()"
      ],
      "execution_count": null,
      "outputs": [
        {
          "output_type": "display_data",
          "data": {
            "image/png": "[encoded data removed]",
            "text/plain": [
              "<Figure size 432x288 with 1 Axes>"
            ]
          },
          "metadata": {
            "tags": []
          }
        }
      ]
    },
    {
      "cell_type": "code",
      "metadata": {
        "id": "412cjxsT2Yo0",
        "outputId": "fa865a30-408f-4e06-a082-bdfca193a11d"
      },
      "source": [
        "plt.imshow(xc2[45],cm.gray)\n",
        "plt.show()"
      ],
      "execution_count": null,
      "outputs": [
        {
          "output_type": "display_data",
          "data": {
            "image/png": "[encoded data removed]",
            "text/plain": [
              "<Figure size 432x288 with 1 Axes>"
            ]
          },
          "metadata": {
            "tags": []
          }
        }
      ]
    },
    {
      "cell_type": "code",
      "metadata": {
        "id": "dypG6orH2Yo1",
        "colab": {
          "base_uri": "https://localhost:8080/"
        },
        "outputId": "150cd197-19ac-49d0-b0cf-219cef7ac182"
      },
      "source": [
        "import tensorflow as tf\n",
        "!pip install np_utils"
      ],
      "execution_count": null,
      "outputs": [
        {
          "output_type": "stream",
          "text": [
            "Requirement already satisfied: np_utils in /usr/local/lib/python3.7/dist-packages (0.5.12.1)\n",
            "Requirement already satisfied: future>=0.16 in /usr/local/lib/python3.7/dist-packages (from np_utils) (0.16.0)\n",
            "Requirement already satisfied: numpy>=1.0 in /usr/local/lib/python3.7/dist-packages (from np_utils) (1.19.5)\n"
          ],
          "name": "stdout"
        }
      ]
    },
    {
      "cell_type": "code",
      "metadata": {
        "id": "m0Kn9Tha2Yo1",
        "colab": {
          "base_uri": "https://localhost:8080/"
        },
        "outputId": "e06febc2-fa26-4998-dcd9-ecfd592a9dae"
      },
      "source": [
        "import matplotlib.pyplot as plt\n",
        "import numpy as np\n",
        "from keras.utils import to_categorical\n",
        "from tensorflow.keras.models import Sequential\n",
        "from tensorflow.keras.layers import Dense, Dropout, Activation,Flatten\n",
        "from tensorflow.keras.layers import Embedding\n",
        "from tensorflow.keras.layers import Conv2D, GlobalMaxPooling1D,AveragePooling2D\n",
        "from tensorflow.keras.layers import MaxPooling2D\n",
        "from tensorflow.keras.layers import Activation, Dense\n",
        "model = Sequential()\n",
        "model.add(Conv2D(28, (3, 3), padding=\"same\",input_shape=(28,28,1)))\n",
        "model.add(Activation(\"relu\"))\n",
        "model.add(MaxPooling2D(pool_size=(2,2),strides=(1,1),padding='same'))\n",
        "model.add(Activation(\"relu\"))\n",
        "model.add(Flatten())\n",
        "model.add(Dropout(0.20))\n",
        "model.add(Dense(10))\n",
        "model.add(Activation(\"softmax\"))\n",
        "model.compile(loss='binary_crossentropy',\n",
        "              optimizer='sgd',\n",
        "              metrics=['accuracy'])\n",
        "xc=X_train\n",
        "xc2=[]\n",
        "xcv=X_train.head(40200)\n",
        "xcv1=(np.array(xcv))\n",
        "\n",
        "for t in xcv1:\n",
        "    xc2.append(t.reshape(28,28))\n",
        "print(np.array(xc2).shape)\n",
        "model.fit(np.array(xc2).reshape(19339,28,28,1), to_categorical(y_train,10),epochs=5, batch_size=10, verbose=1)"
      ],
      "execution_count": null,
      "outputs": [
        {
          "output_type": "stream",
          "text": [
            "(19339, 28, 28)\n",
            "Epoch 1/5\n",
            "1934/1934 [==============================] - 25s 13ms/step - loss: 0.6018 - accuracy: 0.7677\n",
            "Epoch 2/5\n",
            "1934/1934 [==============================] - 24s 12ms/step - loss: 0.0795 - accuracy: 0.8586\n",
            "Epoch 3/5\n",
            "1934/1934 [==============================] - 24s 12ms/step - loss: 0.0680 - accuracy: 0.8783\n",
            "Epoch 4/5\n",
            "1934/1934 [==============================] - 24s 12ms/step - loss: 0.0620 - accuracy: 0.8918\n",
            "Epoch 5/5\n",
            "1934/1934 [==============================] - 24s 13ms/step - loss: 0.0588 - accuracy: 0.8977\n"
          ],
          "name": "stdout"
        },
        {
          "output_type": "execute_result",
          "data": {
            "text/plain": [
              "<tensorflow.python.keras.callbacks.History at 0x7f840f79e2d0>"
            ]
          },
          "metadata": {
            "tags": []
          },
          "execution_count": 26
        }
      ]
    },
    {
      "cell_type": "code",
      "metadata": {
        "id": "SYV1w5eR2Yo2",
        "colab": {
          "base_uri": "https://localhost:8080/"
        },
        "outputId": "9c324f12-c243-4284-e0ae-32bf176726e1"
      },
      "source": [
        "xc1=X_test\n",
        "xc3=x2.head(10000)\n",
        "xc31=np.array(xc3)\n",
        "xc4=[]\n",
        "for t in xc31:\n",
        "    xc4.append(t[1:785].reshape(28,28))\n",
        "yu=model.predict_classes(np.array(xc4).reshape(-1,28,28,1))"
      ],
      "execution_count": null,
      "outputs": [
        {
          "output_type": "stream",
          "text": [
            "/usr/local/lib/python3.7/dist-packages/tensorflow/python/keras/engine/sequential.py:450: UserWarning: `model.predict_classes()` is deprecated and will be removed after 2021-01-01. Please use instead:* `np.argmax(model.predict(x), axis=-1)`,   if your model does multi-class classification   (e.g. if it uses a `softmax` last-layer activation).* `(model.predict(x) > 0.5).astype(\"int32\")`,   if your model does binary classification   (e.g. if it uses a `sigmoid` last-layer activation).\n",
            "  warnings.warn('`model.predict_classes()` is deprecated and '\n"
          ],
          "name": "stderr"
        }
      ]
    },
    {
      "cell_type": "code",
      "metadata": {
        "id": "kv3EW4mX2Yo2",
        "colab": {
          "base_uri": "https://localhost:8080/"
        },
        "outputId": "90f6d22c-977c-489f-cfde-9d000ffab0d4"
      },
      "source": [
        "from sklearn.metrics import precision_score,accuracy_score\n",
        "from sklearn.metrics import confusion_matrix\n",
        "\n",
        "print(accuracy_score(yu,y2))"
      ],
      "execution_count": null,
      "outputs": [
        {
          "output_type": "stream",
          "text": [
            "0.8742\n"
          ],
          "name": "stdout"
        }
      ]
    },
    {
      "cell_type": "code",
      "metadata": {
        "id": "BfxM5shT2Yo3",
        "colab": {
          "base_uri": "https://localhost:8080/"
        },
        "outputId": "4c923a23-4057-4cc6-9044-9795b8a6e5e7"
      },
      "source": [
        "print(confusion_matrix(yu,y2))"
      ],
      "execution_count": null,
      "outputs": [
        {
          "output_type": "stream",
          "text": [
            "[[874   0  28  19   3   0 216   1   7   0]\n",
            " [  1 987   1   9   1   1   4   0   1   0]\n",
            " [ 11   0 742   3  81   0  51   0   1   0]\n",
            " [ 24   9  16 929  61   1  27   0   2   0]\n",
            " [  5   1 141  16 778   0  90   0   2   0]\n",
            " [  2   0   0   1   0 960   0  24   4   6]\n",
            " [ 72   1  65  21  74   0 606   0   7   0]\n",
            " [  0   0   0   0   0  18   0 921   2  23]\n",
            " [ 11   2   6   2   2   2   6   0 974   0]\n",
            " [  0   0   1   0   0  18   0  54   0 971]]\n"
          ],
          "name": "stdout"
        }
      ]
    },
    {
      "cell_type": "code",
      "metadata": {
        "id": "3tK3DRdy2Yo3",
        "colab": {
          "base_uri": "https://localhost:8080/",
          "height": 282
        },
        "outputId": "cb7a4128-fa54-49f2-9fdb-24e9acac3d8e"
      },
      "source": [
        "import seaborn as sns\n",
        "sns.heatmap(confusion_matrix(yu,y2))"
      ],
      "execution_count": null,
      "outputs": [
        {
          "output_type": "execute_result",
          "data": {
            "text/plain": [
              "<matplotlib.axes._subplots.AxesSubplot at 0x7f840c3a6fd0>"
            ]
          },
          "metadata": {
            "tags": []
          },
          "execution_count": 30
        },
        {
          "output_type": "display_data",
          "data": {
            "image/png": "[encoded data removed]",
            "text/plain": [
              "<Figure size 432x288 with 2 Axes>"
            ]
          },
          "metadata": {
            "tags": [],
            "needs_background": "light"
          }
        }
      ]
    },
    {
      "cell_type": "code",
      "metadata": {
        "id": "arqnK-WR2Yo4",
        "outputId": "3a37eeab-74ed-48ca-d7ab-1c79fd12647f"
      },
      "source": [
        "import math\n",
        "def sigmoid():\n",
        "    y=[]\n",
        "    x=1\n",
        "    for x1 in range(0,10000):\n",
        "           x=x+0.006\n",
        "           y.append(1/(1+math.exp((-x))))\n",
        "    plt.plot(y)\n",
        "sigmoid()\n",
        "plt.show()"
      ],
      "execution_count": null,
      "outputs": [
        {
          "output_type": "display_data",
          "data": {
            "image/png": "[encoded data removed]",
            "text/plain": [
              "<Figure size 432x288 with 1 Axes>"
            ]
          },
          "metadata": {
            "tags": []
          }
        }
      ]
    },
    {
      "cell_type": "code",
      "metadata": {
        "id": "JHG2zzu62Yo4"
      },
      "source": [
        ""
      ],
      "execution_count": null,
      "outputs": []
    }
  ]
}